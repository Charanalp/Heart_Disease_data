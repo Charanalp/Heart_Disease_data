{
  "nbformat": 4,
  "nbformat_minor": 0,
  "metadata": {
    "colab": {
      "private_outputs": true,
      "provenance": [],
      "authorship_tag": "ABX9TyOmse7QAZ6Hd3xPVnWx0alY",
      "include_colab_link": true
    },
    "kernelspec": {
      "name": "python3",
      "display_name": "Python 3"
    },
    "language_info": {
      "name": "python"
    }
  },
  "cells": [
    {
      "cell_type": "markdown",
      "metadata": {
        "id": "view-in-github",
        "colab_type": "text"
      },
      "source": [
        "<a href=\"https://colab.research.google.com/github/Charanalp/Heart_Disease_data/blob/main/heart_diesase.ipynb\" target=\"_parent\"><img src=\"https://colab.research.google.com/assets/colab-badge.svg\" alt=\"Open In Colab\"/></a>"
      ]
    },
    {
      "cell_type": "markdown",
      "source": [
        "Data Preprocessing"
      ],
      "metadata": {
        "id": "bl6fVXT4CI5d"
      }
    },
    {
      "cell_type": "code",
      "execution_count": null,
      "metadata": {
        "id": "WOyHxax6BepF"
      },
      "outputs": [],
      "source": [
        "import pandas as pd\n",
        "\n",
        "# Load dataset\n",
        "data = pd.read_csv('heart.csv')  # Replace 'heart.csv' with your dataset name\n",
        "print(data.head())\n",
        "\n",
        "# Check for missing values\n",
        "print(data.isnull().sum())\n",
        "\n",
        "# Handle missing data if any\n",
        "data = data.fillna(method='ffill')\n"
      ]
    },
    {
      "cell_type": "markdown",
      "source": [
        " Model Building (Classification Algorithm)"
      ],
      "metadata": {
        "id": "GuDSJ3gTCIHR"
      }
    },
    {
      "cell_type": "code",
      "source": [
        "from sklearn.model_selection import train_test_split\n",
        "from sklearn.ensemble import RandomForestClassifier\n",
        "from sklearn.metrics import accuracy_score, classification_report\n",
        "\n",
        "# Features and Target\n",
        "X = data.drop('target', axis=1)  # Replace 'target' with your label column\n",
        "y = data['target']\n",
        "\n",
        "# Splitting data\n",
        "X_train, X_test, y_train, y_test = train_test_split(X, y, test_size=0.2, random_state=42)\n",
        "\n",
        "# Model Training\n",
        "model = RandomForestClassifier()\n",
        "model.fit(X_train, y_train)\n",
        "\n",
        "# Predictions\n",
        "predictions = model.predict(X_test)\n",
        "\n",
        "# Accuracy\n",
        "print(f\"Accuracy: {accuracy_score(y_test, predictions) * 100:.2f}%\")\n",
        "print(classification_report(y_test, predictions))\n"
      ],
      "metadata": {
        "id": "C6e19MUvCR2l"
      },
      "execution_count": null,
      "outputs": []
    },
    {
      "cell_type": "markdown",
      "source": [
        "Predicting Disease Based on New Data\n",
        "\n"
      ],
      "metadata": {
        "id": "UfwlmQhxCW2U"
      }
    },
    {
      "cell_type": "code",
      "source": [
        "# Example input for prediction\n",
        "new_data = [[63, 1, 3, 145, 233, 1, 0, 150, 0, 2.3, 0, 0, 1]]  # Adjust as per your dataset\n",
        "prediction = model.predict(new_data)\n",
        "print(\"Disease Prediction:\", \"Positive\" if prediction[0] == 1 else \"Negative\")\n"
      ],
      "metadata": {
        "id": "lbBehFigCTrL"
      },
      "execution_count": null,
      "outputs": []
    },
    {
      "cell_type": "code",
      "source": [
        "import seaborn as sns\n",
        "import matplotlib.pyplot as plt\n",
        "\n",
        "# Correlation matrix\n",
        "plt.figure(figsize=(12, 8))\n",
        "sns.heatmap(data.corr(), annot=True, cmap='coolwarm', linewidths=0.5)\n",
        "plt.title('Feature Correlation Heatmap')\n",
        "plt.savefig('correlation_heatmap.png')  # Save the image\n",
        "plt.show()\n"
      ],
      "metadata": {
        "id": "H5utBCzACboH"
      },
      "execution_count": null,
      "outputs": []
    },
    {
      "cell_type": "code",
      "source": [
        "sns.countplot(x='target', data=data, palette='Set2')\n",
        "plt.title('Disease Distribution (0 = No Disease, 1 = Disease)')\n",
        "plt.xlabel('Disease Status')\n",
        "plt.ylabel('Count')\n",
        "plt.savefig('disease_distribution.png')\n",
        "plt.show()\n"
      ],
      "metadata": {
        "id": "vi1dU_O0Cn97"
      },
      "execution_count": null,
      "outputs": []
    },
    {
      "cell_type": "code",
      "source": [
        "plt.figure(figsize=(10, 6))\n",
        "sns.scatterplot(x='age', y='chol', hue='target', data=data, palette='coolwarm')\n",
        "plt.title('Age vs Cholesterol with Disease Status')\n",
        "plt.savefig('age_vs_cholesterol.png')\n",
        "plt.show()\n"
      ],
      "metadata": {
        "id": "TEFVDwpMCsWa"
      },
      "execution_count": null,
      "outputs": []
    },
    {
      "cell_type": "code",
      "source": [
        "import numpy as np\n",
        "\n",
        "# Feature importance from Random Forest\n",
        "feature_importance = model.feature_importances_\n",
        "features = np.array(X.columns)\n",
        "\n",
        "# Bar plot\n",
        "plt.figure(figsize=(12, 6))\n",
        "sns.barplot(x=feature_importance, y=features, palette='viridis')\n",
        "plt.title('Feature Importance in Disease Prediction')\n",
        "plt.savefig('feature_importance.png')\n",
        "plt.show()\n"
      ],
      "metadata": {
        "id": "nSjJPGf7Cud3"
      },
      "execution_count": null,
      "outputs": []
    },
    {
      "cell_type": "code",
      "source": [
        "from sklearn.metrics import roc_curve, auc\n",
        "\n",
        "# ROC Curve\n",
        "fpr, tpr, thresholds = roc_curve(y_test, predictions)\n",
        "roc_auc = auc(fpr, tpr)\n",
        "\n",
        "plt.figure(figsize=(8, 6))\n",
        "plt.plot(fpr, tpr, color='darkorange', lw=2, label='ROC curve (area = %0.2f)' % roc_auc)\n",
        "plt.plot([0, 1], [0, 1], color='navy', lw=2, linestyle='--')\n",
        "plt.xlabel('False Positive Rate')\n",
        "plt.ylabel('True Positive Rate')\n",
        "plt.title('Receiver Operating Characteristic (ROC) Curve')\n",
        "plt.legend(loc='lower right')\n",
        "plt.savefig('roc_curve.png')\n",
        "plt.show()\n"
      ],
      "metadata": {
        "id": "ftNbBtgOCwtr"
      },
      "execution_count": null,
      "outputs": []
    },
    {
      "cell_type": "code",
      "source": [],
      "metadata": {
        "id": "lBdncZF3Cy6u"
      },
      "execution_count": null,
      "outputs": []
    }
  ]
}